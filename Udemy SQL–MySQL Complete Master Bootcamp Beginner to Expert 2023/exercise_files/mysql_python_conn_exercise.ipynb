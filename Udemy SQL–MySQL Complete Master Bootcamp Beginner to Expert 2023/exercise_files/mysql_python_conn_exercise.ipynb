{
 "cells": [
  {
   "cell_type": "code",
   "execution_count": 2,
   "metadata": {},
   "outputs": [],
   "source": [
    "import mysql.connector"
   ]
  },
  {
   "cell_type": "code",
   "execution_count": 3,
   "metadata": {},
   "outputs": [],
   "source": [
    "db = mysql.connector.connect(\n",
    "host = \"localhost\",\n",
    "user = \"root\",\n",
    "password = \"password\")"
   ]
  },
  {
   "cell_type": "code",
   "execution_count": 5,
   "metadata": {},
   "outputs": [],
   "source": [
    "mycursor = db.cursor()"
   ]
  },
  {
   "cell_type": "code",
   "execution_count": 12,
   "metadata": {},
   "outputs": [],
   "source": [
    "mycursor.execute(\"SHOW DATABASES\")"
   ]
  },
  {
   "cell_type": "code",
   "execution_count": 13,
   "metadata": {},
   "outputs": [
    {
     "name": "stdout",
     "output_type": "stream",
     "text": [
      "('carshop',)\n",
      "('firstdatabase',)\n",
      "('information_schema',)\n",
      "('join_us',)\n",
      "('joins',)\n",
      "('mysql',)\n",
      "('northwind',)\n",
      "('people',)\n",
      "('performance_schema',)\n",
      "('research',)\n",
      "('shop',)\n",
      "('supplymanagement',)\n",
      "('sys',)\n",
      "('test',)\n"
     ]
    }
   ],
   "source": [
    "for data in mycursor: print(data) \n",
    "# PRINT THE OUTPUT OF ABOVE EXECUTED MYSQL COMMAND VIA PYTHON FOR IN LOOP"
   ]
  },
  {
   "cell_type": "code",
   "execution_count": null,
   "metadata": {},
   "outputs": [],
   "source": [
    "mycursor.execute(\"CREATE DATABASE firstdatabase\")"
   ]
  }
 ],
 "metadata": {
  "kernelspec": {
   "display_name": "Python 3",
   "language": "python",
   "name": "python3"
  },
  "language_info": {
   "codemirror_mode": {
    "name": "ipython",
    "version": 3
   },
   "file_extension": ".py",
   "mimetype": "text/x-python",
   "name": "python",
   "nbconvert_exporter": "python",
   "pygments_lexer": "ipython3",
   "version": "3.11.2"
  },
  "orig_nbformat": 4,
  "vscode": {
   "interpreter": {
    "hash": "c3f6ad3d07fbbad28f36d0f929c6dfbbcf0b3f04c3cb5753addea6c9e22fa2b0"
   }
  }
 },
 "nbformat": 4,
 "nbformat_minor": 2
}
