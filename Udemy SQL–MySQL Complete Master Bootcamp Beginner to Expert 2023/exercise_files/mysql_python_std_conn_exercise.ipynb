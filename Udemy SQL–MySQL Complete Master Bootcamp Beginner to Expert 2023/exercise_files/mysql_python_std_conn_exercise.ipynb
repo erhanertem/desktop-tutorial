{
 "cells": [
  {
   "cell_type": "code",
   "execution_count": 1,
   "metadata": {},
   "outputs": [],
   "source": [
    "# start code block for mysql-python connectivity for firstdatabase\n",
    "import mysql.connector\n",
    "\n",
    "db = mysql.connector.connect(\n",
    "host = \"localhost\",\n",
    "user = \"root\",\n",
    "password = \"password\",\n",
    "database = \"firstdatabase\"\n",
    ")\n",
    "\n",
    "mycursor = db.cursor()"
   ]
  },
  {
   "cell_type": "code",
   "execution_count": 2,
   "metadata": {},
   "outputs": [],
   "source": [
    "mycursor.execute(\"CREATE TABLE computershop (id INT PRIMARY KEY NOT NULL, manufacturername  VARCHAR(255) NOT NULL, computername VARCHAR(255) NOT NULL)\")"
   ]
  },
  {
   "cell_type": "code",
   "execution_count": 3,
   "metadata": {},
   "outputs": [],
   "source": [
    "mycursor.execute(\"DESC computershop\")\n",
    "for i in mycursor: print(i)"
   ]
  },
  {
   "cell_type": "code",
   "execution_count": 11,
   "metadata": {},
   "outputs": [
    {
     "name": "stdout",
     "output_type": "stream",
     "text": [
      "('computershop',)\n"
     ]
    }
   ],
   "source": [
    "mycursor.execute(\"SHOW TABLES\")\n",
    "for j in mycursor: print(j)"
   ]
  },
  {
   "cell_type": "code",
   "execution_count": 7,
   "metadata": {},
   "outputs": [],
   "source": [
    "# single entry to table\n",
    "mycursor.execute(\"INSERT INTO computershop(id, manufacturername, computername) VALUES (%s,%s,%s)\", (101,\"Apple\", \"MacBook Pro\"))\n",
    "db.commit()"
   ]
  },
  {
   "cell_type": "code",
   "execution_count": 14,
   "metadata": {},
   "outputs": [
    {
     "name": "stdout",
     "output_type": "stream",
     "text": [
      "(101, 'Apple', 'MacBook Pro')\n",
      "(105, 'Del2', 'Inspiron2')\n",
      "(106, 'HP2', 'Pavilion2')\n",
      "(107, 'HP2', 'Omen2')\n"
     ]
    }
   ],
   "source": [
    "mycursor.execute(\"SELECT * FROM computershop\")\n",
    "for k in mycursor: print(k)"
   ]
  },
  {
   "cell_type": "code",
   "execution_count": 12,
   "metadata": {},
   "outputs": [],
   "source": [
    "# multiple entry to table\n",
    "query = \"INSERT INTO computershop(id, manufacturername, computername) VALUES (%s,%s,%s)\"\n",
    "values = [(105,\"Del2\", \"Inspiron2\"),(106,\"HP2\", \"Pavilion2\"),(107,\"HP2\", \"Omen2\")]\n",
    "mycursor.executemany(query,values)\n",
    "db.commit()\n",
    "for l in mycursor: print(l)"
   ]
  }
 ],
 "metadata": {
  "kernelspec": {
   "display_name": "Python 3",
   "language": "python",
   "name": "python3"
  },
  "language_info": {
   "codemirror_mode": {
    "name": "ipython",
    "version": 3
   },
   "file_extension": ".py",
   "mimetype": "text/x-python",
   "name": "python",
   "nbconvert_exporter": "python",
   "pygments_lexer": "ipython3",
   "version": "3.11.2"
  },
  "orig_nbformat": 4,
  "vscode": {
   "interpreter": {
    "hash": "c3f6ad3d07fbbad28f36d0f929c6dfbbcf0b3f04c3cb5753addea6c9e22fa2b0"
   }
  }
 },
 "nbformat": 4,
 "nbformat_minor": 2
}
