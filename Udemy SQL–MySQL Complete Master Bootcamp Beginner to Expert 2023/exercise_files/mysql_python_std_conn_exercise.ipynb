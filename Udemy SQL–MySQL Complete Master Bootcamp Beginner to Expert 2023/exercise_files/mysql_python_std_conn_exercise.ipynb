{
 "cells": [
  {
   "cell_type": "code",
   "execution_count": 15,
   "metadata": {},
   "outputs": [],
   "source": [
    "# start code block for mysql-python connectivity for firstdatabase\n",
    "import mysql.connector\n",
    "\n",
    "db = mysql.connector.connect(\n",
    "host = \"localhost\",\n",
    "user = \"root\",\n",
    "password = \"password\",\n",
    "database = \"firstdatabase\"\n",
    ")\n",
    "\n",
    "mycursor = db.cursor()"
   ]
  },
  {
   "cell_type": "code",
   "execution_count": 2,
   "metadata": {},
   "outputs": [],
   "source": [
    "mycursor.execute(\"CREATE TABLE computershop (id INT PRIMARY KEY NOT NULL, manufacturername  VARCHAR(255) NOT NULL, computername VARCHAR(255) NOT NULL)\")"
   ]
  },
  {
   "cell_type": "code",
   "execution_count": 3,
   "metadata": {},
   "outputs": [],
   "source": [
    "mycursor.execute(\"DESC computershop\")\n",
    "for i in mycursor: print(i)"
   ]
  },
  {
   "cell_type": "code",
   "execution_count": 11,
   "metadata": {},
   "outputs": [
    {
     "name": "stdout",
     "output_type": "stream",
     "text": [
      "('computershop',)\n"
     ]
    }
   ],
   "source": [
    "mycursor.execute(\"SHOW TABLES\")\n",
    "for j in mycursor: print(j)"
   ]
  },
  {
   "cell_type": "code",
   "execution_count": 7,
   "metadata": {},
   "outputs": [],
   "source": [
    "# single entry to table\n",
    "mycursor.execute(\"INSERT INTO computershop(id, manufacturername, computername) VALUES (%s,%s,%s)\", (101,\"Apple\", \"MacBook Pro\"))\n",
    "db.commit()"
   ]
  },
  {
   "cell_type": "code",
   "execution_count": 12,
   "metadata": {},
   "outputs": [],
   "source": [
    "# multiple entry to table\n",
    "query = \"INSERT INTO computershop(id, manufacturername, computername) VALUES (%s,%s,%s)\"\n",
    "values = [(105,\"Del2\", \"Inspiron2\"),(106,\"HP2\", \"Pavilion2\"),(107,\"HP2\", \"Omen2\")]\n",
    "mycursor.executemany(query,values)\n",
    "db.commit()\n",
    "for l in mycursor: print(l)"
   ]
  },
  {
   "cell_type": "code",
   "execution_count": 21,
   "metadata": {},
   "outputs": [
    {
     "name": "stdout",
     "output_type": "stream",
     "text": [
      "(101, 'Apple', 'MacBook Pro')\n",
      "(105, 'Del2', 'Inspiron2')\n",
      "(106, 'HP2', 'Pavilion2')\n",
      "(107, 'HP2', 'Omen2')\n",
      "This table has :  4 rows.\n"
     ]
    }
   ],
   "source": [
    "mycursor.execute(\"SELECT * FROM computershop\")\n",
    "for k in mycursor: print(k)\n",
    "print('This table has : ', mycursor.rowcount, 'rows.')"
   ]
  },
  {
   "cell_type": "code",
   "execution_count": 3,
   "metadata": {},
   "outputs": [
    {
     "name": "stdout",
     "output_type": "stream",
     "text": [
      "(101, 'Apple', 'MacBook Pro')\n",
      "(105, 'Del2', 'Inspiron2')\n",
      "(106, 'HP2', 'Pavilion2')\n",
      "(107, 'HP2', 'Omen2')\n"
     ]
    }
   ],
   "source": [
    "# multi line output stored into a variable \n",
    "mycursor.execute(\"SELECT * FROM computershop\")\n",
    "# store the output in a variable\n",
    "result = mycursor.fetchall() \n",
    "# log the output stored in the variable \n",
    "for l in result: print(l)"
   ]
  },
  {
   "cell_type": "code",
   "execution_count": 4,
   "metadata": {},
   "outputs": [
    {
     "name": "stdout",
     "output_type": "stream",
     "text": [
      "101\n",
      "Apple\n",
      "MacBook Pro\n"
     ]
    }
   ],
   "source": [
    "#single line output stored into a variable \n",
    "mycursor.execute(\"SELECT * FROM computershop\")\n",
    "result = mycursor.fetchone()\n",
    "\n",
    "for m in result: print(m)"
   ]
  },
  {
   "cell_type": "code",
   "execution_count": 29,
   "metadata": {},
   "outputs": [
    {
     "name": "stdout",
     "output_type": "stream",
     "text": [
      "('computershop',)\n",
      "(105, 'Del2', 'Inspiron2')\n"
     ]
    }
   ],
   "source": [
    "mycursor.execute(\"SHOW TABLES\")\n",
    "for data in mycursor: print(data)\n",
    "mycursor.execute(\"SELECT * FROM computershop WHERE id = 105\")\n",
    "for data in mycursor: print(data)"
   ]
  },
  {
   "cell_type": "code",
   "execution_count": 35,
   "metadata": {},
   "outputs": [],
   "source": [
    "# start code block for mysql-python connectivity for firstdatabase\n",
    "import mysql.connector\n",
    "\n",
    "db = mysql.connector.connect(\n",
    "host = \"localhost\",\n",
    "user = \"root\",\n",
    "password = \"password\",\n",
    "database = \"northwind\"\n",
    ")\n",
    "\n",
    "mycursor = db.cursor()"
   ]
  },
  {
   "cell_type": "code",
   "execution_count": 44,
   "metadata": {},
   "outputs": [
    {
     "name": "stdout",
     "output_type": "stream",
     "text": [
      "(10248, 'VINET', 5, datetime.datetime(1996, 7, 4, 0, 0), datetime.datetime(1996, 8, 1, 0, 0), datetime.datetime(1996, 7, 16, 0, 0), 3, Decimal('32.3800'), 'Vins et alcools Chevalier', '59 rue de l-Abbaye', 'Reims', None, '51100', 'France')\n",
      "(10249, 'TOMSP', 6, datetime.datetime(1996, 7, 5, 0, 0), datetime.datetime(1996, 8, 16, 0, 0), datetime.datetime(1996, 7, 10, 0, 0), 1, Decimal('11.6100'), 'Toms Spezialitten', 'Luisenstr. 48', 'Mnster', None, '44087', 'Germany')\n",
      "(11024, 'EASTC', 4, datetime.datetime(1998, 4, 15, 0, 0), datetime.datetime(1998, 5, 13, 0, 0), datetime.datetime(1998, 4, 20, 0, 0), 1, Decimal('74.3600'), 'Eastern Connection', '35 King George', 'London', None, 'WX3 6FW', 'UK')\n"
     ]
    }
   ],
   "source": [
    "query = \"SELECT * FROM orders WHERE orderid LIKE '%1024%'\"\n",
    "mycursor.execute(query)\n",
    "result = mycursor.fetchall()\n",
    "for k in result: print(k)"
   ]
  },
  {
   "cell_type": "code",
   "execution_count": 42,
   "metadata": {},
   "outputs": [
    {
     "name": "stdout",
     "output_type": "stream",
     "text": [
      "('Nancy', 'Sales Representative')\n",
      "('Janet', 'Sales Representative')\n",
      "('Margaret', 'Sales Representative')\n",
      "('Michael', 'Sales Representative')\n",
      "('Robert', 'Sales Representative')\n",
      "('Anne', 'Sales Representative')\n",
      "('Doze', 'Sales Representative')\n"
     ]
    }
   ],
   "source": [
    "query = \"SELECT firstname, title FROM employees WHERE title LIKE '%Representative%'\"\n",
    "mycursor.execute(query)\n",
    "result = mycursor.fetchall()\n",
    "for k in result: print(k)"
   ]
  }
 ],
 "metadata": {
  "kernelspec": {
   "display_name": "Python 3",
   "language": "python",
   "name": "python3"
  },
  "language_info": {
   "codemirror_mode": {
    "name": "ipython",
    "version": 3
   },
   "file_extension": ".py",
   "mimetype": "text/x-python",
   "name": "python",
   "nbconvert_exporter": "python",
   "pygments_lexer": "ipython3",
   "version": "3.11.2"
  },
  "orig_nbformat": 4,
  "vscode": {
   "interpreter": {
    "hash": "c3f6ad3d07fbbad28f36d0f929c6dfbbcf0b3f04c3cb5753addea6c9e22fa2b0"
   }
  }
 },
 "nbformat": 4,
 "nbformat_minor": 2
}
